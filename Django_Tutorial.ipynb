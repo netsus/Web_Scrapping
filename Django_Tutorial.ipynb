{
 "cells": [
  {
   "cell_type": "markdown",
   "metadata": {},
   "source": [
    "## Django 기초\n",
    "- arguments, keyword arguments\n",
    "- Class, Inheritance, method"
   ]
  },
  {
   "cell_type": "markdown",
   "metadata": {},
   "source": [
    "## Argument\n",
    "- *agrs : positional argument. ex) sum_function(1,23,12,312,31,23,123,12,3,123,12,312,3,123,12) \n",
    "- **kwargs : keyword argument.  ex) sum_function(asdf=111, asdfas=2323, asdkfl= 'asdf')"
   ]
  },
  {
   "cell_type": "markdown",
   "metadata": {
    "ExecuteTime": {
     "end_time": "2020-12-07T13:42:12.487012Z",
     "start_time": "2020-12-07T13:42:12.472020Z"
    }
   },
   "source": [
    "### positional arguments"
   ]
  },
  {
   "cell_type": "code",
   "execution_count": 1,
   "metadata": {
    "ExecuteTime": {
     "end_time": "2020-12-08T16:49:15.413414Z",
     "start_time": "2020-12-08T16:49:15.407414Z"
    }
   },
   "outputs": [],
   "source": [
    "def plus(*args):\n",
    "    print(sum(args))\n",
    "    return len(args)"
   ]
  },
  {
   "cell_type": "code",
   "execution_count": 2,
   "metadata": {
    "ExecuteTime": {
     "end_time": "2020-12-08T16:49:15.459382Z",
     "start_time": "2020-12-08T16:49:15.437396Z"
    }
   },
   "outputs": [
    {
     "name": "stdout",
     "output_type": "stream",
     "text": [
      "50\n"
     ]
    },
    {
     "data": {
      "text/plain": [
       "25"
      ]
     },
     "execution_count": 2,
     "metadata": {},
     "output_type": "execute_result"
    }
   ],
   "source": [
    "plus(1,2,3,2,3,1,2,3,1,2,3,1,2,3,1,2,3,1,2,3,2,1,2,3,1)"
   ]
  },
  {
   "cell_type": "markdown",
   "metadata": {},
   "source": [
    "## OOP"
   ]
  },
  {
   "cell_type": "code",
   "execution_count": 3,
   "metadata": {
    "ExecuteTime": {
     "end_time": "2020-12-08T16:49:15.521791Z",
     "start_time": "2020-12-08T16:49:15.514791Z"
    }
   },
   "outputs": [],
   "source": [
    "class Car():\n",
    "    wheels = 4\n",
    "    dorrs = 4\n",
    "    windows = 4\n",
    "    seats = 4"
   ]
  },
  {
   "cell_type": "code",
   "execution_count": 4,
   "metadata": {
    "ExecuteTime": {
     "end_time": "2020-12-08T16:49:15.553762Z",
     "start_time": "2020-12-08T16:49:15.547767Z"
    }
   },
   "outputs": [
    {
     "name": "stdout",
     "output_type": "stream",
     "text": [
      "Red\n"
     ]
    }
   ],
   "source": [
    "porche = Car()\n",
    "porche.color = 'Red'\n",
    "print(porche.color)"
   ]
  },
  {
   "cell_type": "code",
   "execution_count": 5,
   "metadata": {
    "ExecuteTime": {
     "end_time": "2020-12-08T16:49:15.599734Z",
     "start_time": "2020-12-08T16:49:15.581744Z"
    }
   },
   "outputs": [
    {
     "name": "stdout",
     "output_type": "stream",
     "text": [
      "Yellow\n"
     ]
    }
   ],
   "source": [
    "ferrari = Car()\n",
    "ferrari.color = 'Yellow'\n",
    "print(ferrari.color)"
   ]
  },
  {
   "cell_type": "markdown",
   "metadata": {},
   "source": [
    "### Method\n",
    "- CLASS내부에 있는 Function"
   ]
  },
  {
   "cell_type": "markdown",
   "metadata": {},
   "source": [
    "Python에서 모든 method의 첫번쨰 argument는 method를 호출하는 instance 자신이다."
   ]
  },
  {
   "cell_type": "code",
   "execution_count": 6,
   "metadata": {
    "ExecuteTime": {
     "end_time": "2020-12-08T16:49:15.694677Z",
     "start_time": "2020-12-08T16:49:15.686682Z"
    }
   },
   "outputs": [],
   "source": [
    "class Car():\n",
    "    wheels = 4\n",
    "    dorrs = 4\n",
    "    windows = 4\n",
    "    seats = 4\n",
    "    \n",
    "    def start():\n",
    "#         print(potato.color)\n",
    "        print(\"I started\")"
   ]
  },
  {
   "cell_type": "code",
   "execution_count": 7,
   "metadata": {
    "ExecuteTime": {
     "end_time": "2020-12-08T16:49:15.804610Z",
     "start_time": "2020-12-08T16:49:15.715664Z"
    }
   },
   "outputs": [
    {
     "ename": "TypeError",
     "evalue": "start() takes 0 positional arguments but 1 was given",
     "output_type": "error",
     "traceback": [
      "\u001b[1;31m---------------------------------------------------------------------------\u001b[0m",
      "\u001b[1;31mTypeError\u001b[0m                                 Traceback (most recent call last)",
      "\u001b[1;32m<ipython-input-7-ae0d9b915766>\u001b[0m in \u001b[0;36m<module>\u001b[1;34m\u001b[0m\n\u001b[0;32m      1\u001b[0m \u001b[0mporche\u001b[0m \u001b[1;33m=\u001b[0m \u001b[0mCar\u001b[0m\u001b[1;33m(\u001b[0m\u001b[1;33m)\u001b[0m\u001b[1;33m\u001b[0m\u001b[1;33m\u001b[0m\u001b[0m\n\u001b[0;32m      2\u001b[0m \u001b[0mporche\u001b[0m\u001b[1;33m.\u001b[0m\u001b[0mcolor\u001b[0m \u001b[1;33m=\u001b[0m \u001b[1;34m'Red Sexy Red'\u001b[0m\u001b[1;33m\u001b[0m\u001b[1;33m\u001b[0m\u001b[0m\n\u001b[1;32m----> 3\u001b[1;33m \u001b[0mporche\u001b[0m\u001b[1;33m.\u001b[0m\u001b[0mstart\u001b[0m\u001b[1;33m(\u001b[0m\u001b[1;33m)\u001b[0m\u001b[1;33m\u001b[0m\u001b[1;33m\u001b[0m\u001b[0m\n\u001b[0m\u001b[0;32m      4\u001b[0m \u001b[1;31m# start에 첫 번쨰 인자로 porche(인스턴스)가 보이지 않게 항상 들어간다.\u001b[0m\u001b[1;33m\u001b[0m\u001b[1;33m\u001b[0m\u001b[1;33m\u001b[0m\u001b[0m\n",
      "\u001b[1;31mTypeError\u001b[0m: start() takes 0 positional arguments but 1 was given"
     ]
    }
   ],
   "source": [
    "porche = Car()\n",
    "porche.color = 'Red Sexy Red'\n",
    "porche.start()\n",
    "# start에 첫 번쨰 인자로 porche(인스턴스)가 보이지 않게 항상 들어간다.\n",
    "# 그래서 아래와 같이 arguments하나가 주어졌다는 에러가 나게된다."
   ]
  },
  {
   "cell_type": "code",
   "execution_count": 8,
   "metadata": {
    "ExecuteTime": {
     "end_time": "2020-12-08T16:49:19.943936Z",
     "start_time": "2020-12-08T16:49:19.924946Z"
    }
   },
   "outputs": [],
   "source": [
    "class Car():\n",
    "    wheels = 4\n",
    "    dorrs = 4\n",
    "    windows = 4\n",
    "    seats = 4\n",
    "    \n",
    "    def start(potato):\n",
    "        print(potato.color)\n",
    "        print(\"I started\")"
   ]
  },
  {
   "cell_type": "code",
   "execution_count": 9,
   "metadata": {
    "ExecuteTime": {
     "end_time": "2020-12-08T16:49:20.331986Z",
     "start_time": "2020-12-08T16:49:20.325991Z"
    }
   },
   "outputs": [
    {
     "name": "stdout",
     "output_type": "stream",
     "text": [
      "Red Sexy Red\n",
      "I started\n"
     ]
    }
   ],
   "source": [
    "porche = Car()\n",
    "porche.color = 'Red Sexy Red'\n",
    "porche.start()"
   ]
  },
  {
   "cell_type": "code",
   "execution_count": null,
   "metadata": {},
   "outputs": [],
   "source": [
    "## dir 함수에 클래스 넣으면 class내의 모든 메소드(method)를 출력\n",
    "print(dir(Car()))"
   ]
  },
  {
   "cell_type": "code",
   "execution_count": 16,
   "metadata": {
    "ExecuteTime": {
     "end_time": "2020-12-08T16:58:20.839840Z",
     "start_time": "2020-12-08T16:58:20.825850Z"
    }
   },
   "outputs": [
    {
     "name": "stdout",
     "output_type": "stream",
     "text": [
      "<__main__.Car object at 0x00000224D7D7CAC8>\n"
     ]
    }
   ],
   "source": [
    "## __str__은 인스턴스를 출력할때, 문자열로 바꿔주는 메쏘드\n",
    "porche = Car()\n",
    "print(porche)"
   ]
  },
  {
   "cell_type": "code",
   "execution_count": 17,
   "metadata": {
    "ExecuteTime": {
     "end_time": "2020-12-08T16:58:21.214375Z",
     "start_time": "2020-12-08T16:58:21.203380Z"
    }
   },
   "outputs": [],
   "source": [
    "class Car():\n",
    "    wheels = 4\n",
    "    dorrs = 4\n",
    "    windows = 4\n",
    "    seats = 4\n",
    "    ## 원래 보이지 않게 존재하던 __str__를 재정의(Override)\n",
    "    def __str__(self):\n",
    "        return \"alalalalallalallallallalallalallala\""
   ]
  },
  {
   "cell_type": "code",
   "execution_count": 20,
   "metadata": {
    "ExecuteTime": {
     "end_time": "2020-12-08T16:58:44.099372Z",
     "start_time": "2020-12-08T16:58:44.089378Z"
    }
   },
   "outputs": [
    {
     "name": "stdout",
     "output_type": "stream",
     "text": [
      "alalalalallalallallallalallalallala\n"
     ]
    }
   ],
   "source": [
    "## __str__은 인스턴스를 출력할때, 문자열로 바꿔주는 메쏘드\n",
    "porche = Car()\n",
    "print(porche)"
   ]
  },
  {
   "cell_type": "code",
   "execution_count": 22,
   "metadata": {
    "ExecuteTime": {
     "end_time": "2020-12-08T17:03:46.032872Z",
     "start_time": "2020-12-08T17:03:46.015883Z"
    }
   },
   "outputs": [],
   "source": [
    "class Car():\n",
    "    def __init__(self, *args, **kwargs):\n",
    "        print(kwargs)\n",
    "        self.wheels = 4\n",
    "        self.dorrs = 4\n",
    "        self.windows = 4\n",
    "        self.seats = 4\n",
    "        \n",
    "    ## 원래 보이지 않게 존재하던 __str__를 재정의(Override)\n",
    "    def __str__(self):\n",
    "        return f\"Car with {self.wheels} wheels\""
   ]
  },
  {
   "cell_type": "code",
   "execution_count": 23,
   "metadata": {
    "ExecuteTime": {
     "end_time": "2020-12-08T17:03:47.992755Z",
     "start_time": "2020-12-08T17:03:47.973767Z"
    }
   },
   "outputs": [
    {
     "name": "stdout",
     "output_type": "stream",
     "text": [
      "{'color': 'green', 'price': '$40'}\n",
      "Car with 4 wheels\n"
     ]
    }
   ],
   "source": [
    "porche = Car(color='green',price='$40')\n",
    "print(porche)"
   ]
  },
  {
   "cell_type": "code",
   "execution_count": 24,
   "metadata": {
    "ExecuteTime": {
     "end_time": "2020-12-08T17:05:41.793651Z",
     "start_time": "2020-12-08T17:05:41.783657Z"
    }
   },
   "outputs": [],
   "source": [
    "class Car():\n",
    "    def __init__(self, **kwargs):\n",
    "        self.wheels = 4\n",
    "        self.dorrs = 4\n",
    "        self.windows = 4\n",
    "        self.seats = 4\n",
    "        self.color = kwargs.get(\"color\",\"black\")\n",
    "        self.price = kwargs.get(\"price\",\"$20\")\n",
    "        \n",
    "    ## 원래 보이지 않게 존재하던 __str__를 재정의(Override)\n",
    "    def __str__(self):\n",
    "        return f\"Car with {self.wheels} wheels\""
   ]
  },
  {
   "cell_type": "code",
   "execution_count": 25,
   "metadata": {
    "ExecuteTime": {
     "end_time": "2020-12-08T17:05:53.684033Z",
     "start_time": "2020-12-08T17:05:53.678039Z"
    }
   },
   "outputs": [
    {
     "name": "stdout",
     "output_type": "stream",
     "text": [
      "green $40\n"
     ]
    }
   ],
   "source": [
    "porche = Car(color='green',price='$40')\n",
    "print(porche.color, porche.price)"
   ]
  },
  {
   "cell_type": "code",
   "execution_count": 26,
   "metadata": {
    "ExecuteTime": {
     "end_time": "2020-12-08T17:08:39.847070Z",
     "start_time": "2020-12-08T17:08:39.837076Z"
    }
   },
   "outputs": [
    {
     "name": "stdout",
     "output_type": "stream",
     "text": [
      "black $20\n"
     ]
    }
   ],
   "source": [
    "mini = Car()\n",
    "print(mini.color, mini.price)"
   ]
  }
 ],
 "metadata": {
  "kernelspec": {
   "display_name": "Python 3",
   "language": "python",
   "name": "python3"
  },
  "language_info": {
   "codemirror_mode": {
    "name": "ipython",
    "version": 3
   },
   "file_extension": ".py",
   "mimetype": "text/x-python",
   "name": "python",
   "nbconvert_exporter": "python",
   "pygments_lexer": "ipython3",
   "version": "3.7.3"
  },
  "toc": {
   "base_numbering": 1,
   "nav_menu": {},
   "number_sections": true,
   "sideBar": true,
   "skip_h1_title": false,
   "title_cell": "Table of Contents",
   "title_sidebar": "Contents",
   "toc_cell": false,
   "toc_position": {},
   "toc_section_display": true,
   "toc_window_display": false
  }
 },
 "nbformat": 4,
 "nbformat_minor": 2
}
