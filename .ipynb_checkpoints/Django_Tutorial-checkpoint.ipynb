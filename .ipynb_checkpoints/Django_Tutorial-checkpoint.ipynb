{
 "cells": [
  {
   "cell_type": "markdown",
   "metadata": {},
   "source": [
    "## Django 기초\n",
    "- arguments, keyword arguments\n",
    "- Class, Inheritance, method"
   ]
  },
  {
   "cell_type": "markdown",
   "metadata": {},
   "source": [
    "## Argument\n",
    "- *agrs : positional argument. ex) sum_function(1,23,12,312,31,23,123,12,3,123,12,312,3,123,12) \n",
    "- **kwargs : keyword argument.  ex) sum_function(asdf=111, asdfas=2323, asdkfl= 'asdf')"
   ]
  },
  {
   "cell_type": "markdown",
   "metadata": {
    "ExecuteTime": {
     "end_time": "2020-12-07T13:42:12.487012Z",
     "start_time": "2020-12-07T13:42:12.472020Z"
    }
   },
   "source": [
    "### positional arguments"
   ]
  },
  {
   "cell_type": "code",
   "execution_count": 1,
   "metadata": {
    "ExecuteTime": {
     "end_time": "2020-12-08T16:49:15.413414Z",
     "start_time": "2020-12-08T16:49:15.407414Z"
    }
   },
   "outputs": [],
   "source": [
    "def plus(*args):\n",
    "    print(sum(args))\n",
    "    return len(args)"
   ]
  },
  {
   "cell_type": "code",
   "execution_count": 2,
   "metadata": {
    "ExecuteTime": {
     "end_time": "2020-12-08T16:49:15.459382Z",
     "start_time": "2020-12-08T16:49:15.437396Z"
    }
   },
   "outputs": [
    {
     "name": "stdout",
     "output_type": "stream",
     "text": [
      "50\n"
     ]
    },
    {
     "data": {
      "text/plain": [
       "25"
      ]
     },
     "execution_count": 2,
     "metadata": {},
     "output_type": "execute_result"
    }
   ],
   "source": [
    "plus(1,2,3,2,3,1,2,3,1,2,3,1,2,3,1,2,3,1,2,3,2,1,2,3,1)"
   ]
  },
  {
   "cell_type": "markdown",
   "metadata": {},
   "source": [
    "## OOP"
   ]
  },
  {
   "cell_type": "code",
   "execution_count": 3,
   "metadata": {
    "ExecuteTime": {
     "end_time": "2020-12-08T16:49:15.521791Z",
     "start_time": "2020-12-08T16:49:15.514791Z"
    }
   },
   "outputs": [],
   "source": [
    "class Car():\n",
    "    wheels = 4\n",
    "    dorrs = 4\n",
    "    windows = 4\n",
    "    seats = 4"
   ]
  },
  {
   "cell_type": "code",
   "execution_count": 4,
   "metadata": {
    "ExecuteTime": {
     "end_time": "2020-12-08T16:49:15.553762Z",
     "start_time": "2020-12-08T16:49:15.547767Z"
    }
   },
   "outputs": [
    {
     "name": "stdout",
     "output_type": "stream",
     "text": [
      "Red\n"
     ]
    }
   ],
   "source": [
    "porche = Car()\n",
    "porche.color = 'Red'\n",
    "print(porche.color)"
   ]
  },
  {
   "cell_type": "code",
   "execution_count": 5,
   "metadata": {
    "ExecuteTime": {
     "end_time": "2020-12-08T16:49:15.599734Z",
     "start_time": "2020-12-08T16:49:15.581744Z"
    }
   },
   "outputs": [
    {
     "name": "stdout",
     "output_type": "stream",
     "text": [
      "Yellow\n"
     ]
    }
   ],
   "source": [
    "ferrari = Car()\n",
    "ferrari.color = 'Yellow'\n",
    "print(ferrari.color)"
   ]
  },
  {
   "cell_type": "markdown",
   "metadata": {},
   "source": [
    "### Method\n",
    "- CLASS내부에 있는 Function"
   ]
  },
  {
   "cell_type": "markdown",
   "metadata": {},
   "source": [
    "Python에서 모든 method의 첫번쨰 argument는 method를 호출하는 instance 자신이다."
   ]
  },
  {
   "cell_type": "code",
   "execution_count": 6,
   "metadata": {
    "ExecuteTime": {
     "end_time": "2020-12-08T16:49:15.694677Z",
     "start_time": "2020-12-08T16:49:15.686682Z"
    }
   },
   "outputs": [],
   "source": [
    "class Car():\n",
    "    wheels = 4\n",
    "    dorrs = 4\n",
    "    windows = 4\n",
    "    seats = 4\n",
    "    \n",
    "    def start():\n",
    "#         print(potato.color)\n",
    "        print(\"I started\")"
   ]
  },
  {
   "cell_type": "code",
   "execution_count": 7,
   "metadata": {
    "ExecuteTime": {
     "end_time": "2020-12-08T16:49:15.804610Z",
     "start_time": "2020-12-08T16:49:15.715664Z"
    }
   },
   "outputs": [
    {
     "ename": "TypeError",
     "evalue": "start() takes 0 positional arguments but 1 was given",
     "output_type": "error",
     "traceback": [
      "\u001b[1;31m---------------------------------------------------------------------------\u001b[0m",
      "\u001b[1;31mTypeError\u001b[0m                                 Traceback (most recent call last)",
      "\u001b[1;32m<ipython-input-7-ae0d9b915766>\u001b[0m in \u001b[0;36m<module>\u001b[1;34m\u001b[0m\n\u001b[0;32m      1\u001b[0m \u001b[0mporche\u001b[0m \u001b[1;33m=\u001b[0m \u001b[0mCar\u001b[0m\u001b[1;33m(\u001b[0m\u001b[1;33m)\u001b[0m\u001b[1;33m\u001b[0m\u001b[1;33m\u001b[0m\u001b[0m\n\u001b[0;32m      2\u001b[0m \u001b[0mporche\u001b[0m\u001b[1;33m.\u001b[0m\u001b[0mcolor\u001b[0m \u001b[1;33m=\u001b[0m \u001b[1;34m'Red Sexy Red'\u001b[0m\u001b[1;33m\u001b[0m\u001b[1;33m\u001b[0m\u001b[0m\n\u001b[1;32m----> 3\u001b[1;33m \u001b[0mporche\u001b[0m\u001b[1;33m.\u001b[0m\u001b[0mstart\u001b[0m\u001b[1;33m(\u001b[0m\u001b[1;33m)\u001b[0m\u001b[1;33m\u001b[0m\u001b[1;33m\u001b[0m\u001b[0m\n\u001b[0m\u001b[0;32m      4\u001b[0m \u001b[1;31m# start에 첫 번쨰 인자로 porche(인스턴스)가 보이지 않게 항상 들어간다.\u001b[0m\u001b[1;33m\u001b[0m\u001b[1;33m\u001b[0m\u001b[1;33m\u001b[0m\u001b[0m\n",
      "\u001b[1;31mTypeError\u001b[0m: start() takes 0 positional arguments but 1 was given"
     ]
    }
   ],
   "source": [
    "porche = Car()\n",
    "porche.color = 'Red Sexy Red'\n",
    "porche.start()\n",
    "# start에 첫 번쨰 인자로 porche(인스턴스)가 보이지 않게 항상 들어간다.\n",
    "# 그래서 아래와 같이 arguments하나가 주어졌다는 에러가 나게된다."
   ]
  },
  {
   "cell_type": "code",
   "execution_count": 8,
   "metadata": {
    "ExecuteTime": {
     "end_time": "2020-12-08T16:49:19.943936Z",
     "start_time": "2020-12-08T16:49:19.924946Z"
    }
   },
   "outputs": [],
   "source": [
    "class Car():\n",
    "    wheels = 4\n",
    "    dorrs = 4\n",
    "    windows = 4\n",
    "    seats = 4\n",
    "    \n",
    "    def start(potato):\n",
    "        print(potato.color)\n",
    "        print(\"I started\")"
   ]
  },
  {
   "cell_type": "code",
   "execution_count": 9,
   "metadata": {
    "ExecuteTime": {
     "end_time": "2020-12-08T16:49:20.331986Z",
     "start_time": "2020-12-08T16:49:20.325991Z"
    }
   },
   "outputs": [
    {
     "name": "stdout",
     "output_type": "stream",
     "text": [
      "Red Sexy Red\n",
      "I started\n"
     ]
    }
   ],
   "source": [
    "porche = Car()\n",
    "porche.color = 'Red Sexy Red'\n",
    "porche.start()"
   ]
  },
  {
   "cell_type": "code",
   "execution_count": null,
   "metadata": {},
   "outputs": [],
   "source": [
    "## dir 함수에 클래스 넣으면 class내의 모든 메소드(method)를 출력\n",
    "print(dir(Car()))"
   ]
  },
  {
   "cell_type": "code",
   "execution_count": 16,
   "metadata": {
    "ExecuteTime": {
     "end_time": "2020-12-08T16:58:20.839840Z",
     "start_time": "2020-12-08T16:58:20.825850Z"
    }
   },
   "outputs": [
    {
     "name": "stdout",
     "output_type": "stream",
     "text": [
      "<__main__.Car object at 0x00000224D7D7CAC8>\n"
     ]
    }
   ],
   "source": [
    "## __str__은 인스턴스를 출력할때, 문자열로 바꿔주는 메쏘드\n",
    "porche = Car()\n",
    "print(porche)"
   ]
  },
  {
   "cell_type": "code",
   "execution_count": 17,
   "metadata": {
    "ExecuteTime": {
     "end_time": "2020-12-08T16:58:21.214375Z",
     "start_time": "2020-12-08T16:58:21.203380Z"
    }
   },
   "outputs": [],
   "source": [
    "class Car():\n",
    "    wheels = 4\n",
    "    dorrs = 4\n",
    "    windows = 4\n",
    "    seats = 4\n",
    "    ## 원래 보이지 않게 존재하던 __str__를 재정의(Override)\n",
    "    def __str__(self):\n",
    "        return \"alalalalallalallallallalallalallala\""
   ]
  },
  {
   "cell_type": "code",
   "execution_count": 20,
   "metadata": {
    "ExecuteTime": {
     "end_time": "2020-12-08T16:58:44.099372Z",
     "start_time": "2020-12-08T16:58:44.089378Z"
    }
   },
   "outputs": [
    {
     "name": "stdout",
     "output_type": "stream",
     "text": [
      "alalalalallalallallallalallalallala\n"
     ]
    }
   ],
   "source": [
    "## __str__은 인스턴스를 출력할때, 문자열로 바꿔주는 메쏘드\n",
    "porche = Car()\n",
    "print(porche)"
   ]
  },
  {
   "cell_type": "code",
   "execution_count": 22,
   "metadata": {
    "ExecuteTime": {
     "end_time": "2020-12-08T17:03:46.032872Z",
     "start_time": "2020-12-08T17:03:46.015883Z"
    }
   },
   "outputs": [],
   "source": [
    "class Car():\n",
    "    def __init__(self, *args, **kwargs):\n",
    "        print(kwargs)\n",
    "        self.wheels = 4\n",
    "        self.dorrs = 4\n",
    "        self.windows = 4\n",
    "        self.seats = 4\n",
    "        \n",
    "    ## 원래 보이지 않게 존재하던 __str__를 재정의(Override)\n",
    "    def __str__(self):\n",
    "        return f\"Car with {self.wheels} wheels\""
   ]
  },
  {
   "cell_type": "code",
   "execution_count": 23,
   "metadata": {
    "ExecuteTime": {
     "end_time": "2020-12-08T17:03:47.992755Z",
     "start_time": "2020-12-08T17:03:47.973767Z"
    }
   },
   "outputs": [
    {
     "name": "stdout",
     "output_type": "stream",
     "text": [
      "{'color': 'green', 'price': '$40'}\n",
      "Car with 4 wheels\n"
     ]
    }
   ],
   "source": [
    "porche = Car(color='green',price='$40')\n",
    "print(porche)"
   ]
  },
  {
   "cell_type": "code",
   "execution_count": 24,
   "metadata": {
    "ExecuteTime": {
     "end_time": "2020-12-08T17:05:41.793651Z",
     "start_time": "2020-12-08T17:05:41.783657Z"
    }
   },
   "outputs": [],
   "source": [
    "class Car():\n",
    "    def __init__(self, **kwargs):\n",
    "        self.wheels = 4\n",
    "        self.dorrs = 4\n",
    "        self.windows = 4\n",
    "        self.seats = 4\n",
    "        self.color = kwargs.get(\"color\",\"black\")\n",
    "        self.price = kwargs.get(\"price\",\"$20\")\n",
    "        \n",
    "    ## 원래 보이지 않게 존재하던 __str__를 재정의(Override)\n",
    "    def __str__(self):\n",
    "        return f\"Car with {self.wheels} wheels\""
   ]
  },
  {
   "cell_type": "code",
   "execution_count": 25,
   "metadata": {
    "ExecuteTime": {
     "end_time": "2020-12-08T17:05:53.684033Z",
     "start_time": "2020-12-08T17:05:53.678039Z"
    }
   },
   "outputs": [
    {
     "name": "stdout",
     "output_type": "stream",
     "text": [
      "green $40\n"
     ]
    }
   ],
   "source": [
    "porche = Car(color='green',price='$40')\n",
    "print(porche.color, porche.price)"
   ]
  },
  {
   "cell_type": "code",
   "execution_count": 26,
   "metadata": {
    "ExecuteTime": {
     "end_time": "2020-12-08T17:08:39.847070Z",
     "start_time": "2020-12-08T17:08:39.837076Z"
    }
   },
   "outputs": [
    {
     "name": "stdout",
     "output_type": "stream",
     "text": [
      "black $20\n"
     ]
    }
   ],
   "source": [
    "mini = Car()\n",
    "print(mini.color, mini.price)"
   ]
  },
  {
   "cell_type": "markdown",
   "metadata": {},
   "source": [
    "### Inheritance(상속), extend(확장)"
   ]
  },
  {
   "cell_type": "code",
   "execution_count": 21,
   "metadata": {
    "ExecuteTime": {
     "end_time": "2020-12-09T13:36:33.875989Z",
     "start_time": "2020-12-09T13:36:33.853002Z"
    }
   },
   "outputs": [],
   "source": [
    "class Car():\n",
    "    def __init__(self, **kwargs):\n",
    "        self.wheels = 4\n",
    "        self.dorrs = 4\n",
    "        self.windows = 4\n",
    "        self.seats = 4\n",
    "        self.color = kwargs.get(\"color\",\"black\")\n",
    "        self.price = kwargs.get(\"price\",\"$20\")\n",
    "        \n",
    "    ## 원래 보이지 않게 존재하던 __str__를 재정의(Override)\n",
    "    def __str__(self):\n",
    "        return f\"Car with {self.wheels} wheels\"\n",
    "    \n",
    "class Convertible(Car):\n",
    "    def take_off(self):\n",
    "        return \"Taking Off\"\n",
    "    \n",
    "class Something(Convertible):\n",
    "    def Good(self):\n",
    "        return \"Good\""
   ]
  },
  {
   "cell_type": "code",
   "execution_count": 22,
   "metadata": {
    "ExecuteTime": {
     "end_time": "2020-12-09T13:36:34.079774Z",
     "start_time": "2020-12-09T13:36:34.071778Z"
    }
   },
   "outputs": [
    {
     "name": "stdout",
     "output_type": "stream",
     "text": [
      "green $40\n",
      "Taking Off\n",
      "4\n"
     ]
    }
   ],
   "source": [
    "## 상속하게 되면 부모 클래스의 메소드들과 값들을 모두 사용할 수 있다.\n",
    "porche = Convertible(color='green',price='$40')\n",
    "print(porche.color, porche.price)\n",
    "print(porche.take_off())\n",
    "print(porche.wheels)"
   ]
  },
  {
   "cell_type": "code",
   "execution_count": 23,
   "metadata": {
    "ExecuteTime": {
     "end_time": "2020-12-09T13:36:34.590000Z",
     "start_time": "2020-12-09T13:36:34.571008Z"
    }
   },
   "outputs": [
    {
     "name": "stdout",
     "output_type": "stream",
     "text": [
      "black $20\n",
      "Taking Off\n",
      "4\n",
      "Good\n"
     ]
    }
   ],
   "source": [
    "## 연속 상속도 가능하다. (마트료시가 인형처럼)\n",
    "test = Something()\n",
    "print(test.color, test.price)\n",
    "print(test.take_off())\n",
    "print(test.wheels)\n",
    "print(test.Good())"
   ]
  },
  {
   "cell_type": "markdown",
   "metadata": {},
   "source": [
    "#### 자식 클래스에서 부모 클래스와 똑같은 함수를 사용하게 되는 경우"
   ]
  },
  {
   "cell_type": "code",
   "execution_count": 26,
   "metadata": {
    "ExecuteTime": {
     "end_time": "2020-12-09T13:38:39.624943Z",
     "start_time": "2020-12-09T13:38:39.609952Z"
    }
   },
   "outputs": [],
   "source": [
    "class Car():\n",
    "    def __init__(self, **kwargs):\n",
    "        self.wheels = 4\n",
    "        self.dorrs = 4\n",
    "        self.windows = 4\n",
    "        self.seats = 4\n",
    "        self.color = kwargs.get(\"color\",\"black\")\n",
    "        self.price = kwargs.get(\"price\",\"$20\")\n",
    "        \n",
    "    ## 원래 보이지 않게 존재하던 __str__를 재정의(Override)\n",
    "    def __str__(self):\n",
    "        return f\"Car with {self.wheels} wheels\"\n",
    "    \n",
    "class Convertible(Car):\n",
    "    def __str__(self):\n",
    "        return f\"Car with no roof\""
   ]
  },
  {
   "cell_type": "code",
   "execution_count": 29,
   "metadata": {
    "ExecuteTime": {
     "end_time": "2020-12-09T13:38:59.606079Z",
     "start_time": "2020-12-09T13:38:59.595083Z"
    }
   },
   "outputs": [
    {
     "name": "stdout",
     "output_type": "stream",
     "text": [
      "Car with no roof\n"
     ]
    }
   ],
   "source": [
    "## 가장 자식 클래스인 Convertible에서 정의한 __str__함수가 작동한다.\n",
    "porche = Convertible()\n",
    "print(porche)"
   ]
  },
  {
   "cell_type": "markdown",
   "metadata": {},
   "source": [
    "### super() : 부모의 메소드(Method), 값 가져오기"
   ]
  },
  {
   "cell_type": "code",
   "execution_count": 30,
   "metadata": {
    "ExecuteTime": {
     "end_time": "2020-12-09T13:40:01.712624Z",
     "start_time": "2020-12-09T13:40:01.698634Z"
    }
   },
   "outputs": [],
   "source": [
    "class Car():\n",
    "    def __init__(self, **kwargs):\n",
    "        self.wheels = 4\n",
    "        self.dorrs = 4\n",
    "        self.windows = 4\n",
    "        self.seats = 4\n",
    "        self.color = kwargs.get(\"color\",\"black\")\n",
    "        self.price = kwargs.get(\"price\",\"$20\")\n",
    "        \n",
    "    ## 원래 보이지 않게 존재하던 __str__를 재정의(Override)\n",
    "    def __str__(self):\n",
    "        return f\"Car with {self.wheels} wheels\"\n",
    "    \n",
    "class Convertible(Car):\n",
    "    def __init__(self, **kwargs):\n",
    "        self.time = kwargs.get(\"time\",10)"
   ]
  },
  {
   "cell_type": "code",
   "execution_count": 31,
   "metadata": {
    "ExecuteTime": {
     "end_time": "2020-12-09T13:40:33.912604Z",
     "start_time": "2020-12-09T13:40:33.889617Z"
    }
   },
   "outputs": [
    {
     "ename": "AttributeError",
     "evalue": "'Convertible' object has no attribute 'color'",
     "output_type": "error",
     "traceback": [
      "\u001b[1;31m---------------------------------------------------------------------------\u001b[0m",
      "\u001b[1;31mAttributeError\u001b[0m                            Traceback (most recent call last)",
      "\u001b[1;32m<ipython-input-31-7870d17d1152>\u001b[0m in \u001b[0;36m<module>\u001b[1;34m\u001b[0m\n\u001b[0;32m      1\u001b[0m \u001b[0mporche\u001b[0m \u001b[1;33m=\u001b[0m \u001b[0mConvertible\u001b[0m\u001b[1;33m(\u001b[0m\u001b[1;33m)\u001b[0m\u001b[1;33m\u001b[0m\u001b[1;33m\u001b[0m\u001b[0m\n\u001b[1;32m----> 2\u001b[1;33m \u001b[0mprint\u001b[0m\u001b[1;33m(\u001b[0m\u001b[0mporche\u001b[0m\u001b[1;33m.\u001b[0m\u001b[0mcolor\u001b[0m\u001b[1;33m)\u001b[0m\u001b[1;33m\u001b[0m\u001b[1;33m\u001b[0m\u001b[0m\n\u001b[0m",
      "\u001b[1;31mAttributeError\u001b[0m: 'Convertible' object has no attribute 'color'"
     ]
    }
   ],
   "source": [
    "## 위에서 Convertible에서 __init__함수를 정의했기 때문에 부모 클래스인 Car 클래스에서 정의된 __init__함수는 무시된다\n",
    "## 그 결과 아래처럼 porche.color는 에러발생.\n",
    "porche = Convertible()\n",
    "print(porche.color)"
   ]
  },
  {
   "cell_type": "markdown",
   "metadata": {},
   "source": [
    "#### 위와 같은 문제 해결을 위해 super() 함수 사용"
   ]
  },
  {
   "cell_type": "code",
   "execution_count": 36,
   "metadata": {
    "ExecuteTime": {
     "end_time": "2020-12-09T13:43:57.291569Z",
     "start_time": "2020-12-09T13:43:57.266585Z"
    }
   },
   "outputs": [],
   "source": [
    "class Car():\n",
    "    def __init__(self, **kwargs):\n",
    "        self.wheels = 4\n",
    "        self.dorrs = 4\n",
    "        self.windows = 4\n",
    "        self.seats = 4\n",
    "        self.color = kwargs.get(\"color\",\"black\")\n",
    "        self.price = kwargs.get(\"price\",\"$20\")\n",
    "        \n",
    "    ## 원래 보이지 않게 존재하던 __str__를 재정의(Override)\n",
    "    def __str__(self):\n",
    "        return f\"Car with {self.wheels} wheels\"\n",
    "    \n",
    "class Convertible(Car):\n",
    "    def __init__(self, **kwargs):\n",
    "        super().__init__(**kwargs)\n",
    "        self.time = kwargs.get(\"time\",10)"
   ]
  },
  {
   "cell_type": "code",
   "execution_count": 37,
   "metadata": {
    "ExecuteTime": {
     "end_time": "2020-12-09T13:43:57.588825Z",
     "start_time": "2020-12-09T13:43:57.572833Z"
    }
   },
   "outputs": [
    {
     "name": "stdout",
     "output_type": "stream",
     "text": [
      "black\n"
     ]
    }
   ],
   "source": [
    "## super()를 통해 부모 클래스(Car)의 __init__을 가져왔기 떄문에 위처럼 에러가 발생하지 않고, 부모 클래스의 값을 사용할 수 있다.\n",
    "porche = Convertible()\n",
    "print(porche.color)"
   ]
  }
 ],
 "metadata": {
  "kernelspec": {
   "display_name": "Python 3",
   "language": "python",
   "name": "python3"
  },
  "language_info": {
   "codemirror_mode": {
    "name": "ipython",
    "version": 3
   },
   "file_extension": ".py",
   "mimetype": "text/x-python",
   "name": "python",
   "nbconvert_exporter": "python",
   "pygments_lexer": "ipython3",
   "version": "3.7.3"
  },
  "toc": {
   "base_numbering": 1,
   "nav_menu": {},
   "number_sections": true,
   "sideBar": true,
   "skip_h1_title": false,
   "title_cell": "Table of Contents",
   "title_sidebar": "Contents",
   "toc_cell": false,
   "toc_position": {},
   "toc_section_display": true,
   "toc_window_display": false
  }
 },
 "nbformat": 4,
 "nbformat_minor": 2
}
