{
 "cells": [
  {
   "cell_type": "code",
   "execution_count": 1,
   "metadata": {
    "ExecuteTime": {
     "end_time": "2020-12-27T15:57:22.762277Z",
     "start_time": "2020-12-27T15:56:29.057326Z"
    }
   },
   "outputs": [
    {
     "name": "stdout",
     "output_type": "stream",
     "text": [
      " * Serving Flask app \"SuperScrapper\" (lazy loading)\n",
      " * Environment: production\n",
      "   WARNING: This is a development server. Do not use it in a production deployment.\n",
      "   Use a production WSGI server instead.\n",
      " * Debug mode: off\n"
     ]
    },
    {
     "name": "stderr",
     "output_type": "stream",
     "text": [
      " * Running on http://0.0.0.0:5000/ (Press CTRL+C to quit)\n",
      "127.0.0.1 - - [28/Dec/2020 00:56:33] \"\u001b[37mGET / HTTP/1.1\u001b[0m\" 200 -\n"
     ]
    },
    {
     "name": "stdout",
     "output_type": "stream",
     "text": [
      "Scrapping SO Page: 0\n"
     ]
    },
    {
     "name": "stderr",
     "output_type": "stream",
     "text": [
      "127.0.0.1 - - [28/Dec/2020 00:56:40] \"\u001b[37mGET /report?word=django HTTP/1.1\u001b[0m\" 200 -\n"
     ]
    }
   ],
   "source": [
    "import pandas as pd\n",
    "import requests  # URL 가져오는 좋은 라이브러리\n",
    "from bs4 import BeautifulSoup  # HTML에서 원하는 정보 가져오기 좋은 라이브러리\n",
    "import csv\n",
    "from flask import Flask, render_template, request, redirect, send_file\n",
    "from flask_cors import CORS\n",
    "import os\n",
    "\n",
    "def SO_get_last_page(URL):\n",
    "    result = requests.get(URL)\n",
    "    soup = BeautifulSoup(result.text, 'lxml')\n",
    "    links = soup.find(\"div\", {'class': 's-pagination'})\n",
    "    if links:\n",
    "        links = links.find_all(\"a\")\n",
    "        last_page = int(links[-2].get_text().strip())\n",
    "    else:\n",
    "        last_page = 0\n",
    "    return last_page\n",
    "\n",
    "def SO_extract_job(html):\n",
    "    # title, company, location, link\n",
    "    title = html.find(\"h2\", {\n",
    "        \"class\": \"mb4 fc-black-800 fs-body3\"\n",
    "    }).find(\"a\")['title']\n",
    "    company_tag, location_tag = html.find(\"h3\", {\n",
    "        'class': 'fc-black-700 fs-body1 mb4'\n",
    "    }).find_all(\"span\", recursive=False)\n",
    "    company = company_tag.get_text(strip=True)\n",
    "    job_id = html['data-jobid']\n",
    "    return {\n",
    "        'title': title,\n",
    "        'company': company,\n",
    "        'link': f\"https://stackoverflow.com/jobs/{job_id}\"\n",
    "    }\n",
    "\n",
    "def SO_extract_jobs(last_page,URL):\n",
    "    jobs = []\n",
    "    for page in range(last_page):\n",
    "        print(f\"Scrapping SO Page: {page}\")\n",
    "        result = requests.get(f\"{URL}&pg={page+1}\")\n",
    "        soup = BeautifulSoup(result.text, 'lxml')\n",
    "        results = soup.find_all(\"div\", {'class': '-job'})\n",
    "        for result in results:\n",
    "            job = SO_extract_job(result)\n",
    "            jobs.append(job)\n",
    "    return jobs\n",
    "\n",
    "def SO_get_jobs(word):\n",
    "    URL = f\"https://stackoverflow.com/jobs?q={word}&sort=i\"\n",
    "    last_page = SO_get_last_page(URL)\n",
    "    last_page = 1\n",
    "    jobs = SO_extract_jobs(last_page,URL)\n",
    "    return jobs\n",
    "\n",
    "\n",
    "def remote_get_jobs(word):\n",
    "    headers = {\n",
    "        'Accept-Encoding': 'gzip, deflate, sdch',\n",
    "        'Accept-Language': 'en-US,en;q=0.8',\n",
    "        'Upgrade-Insecure-Requests': '1',\n",
    "        'User-Agent': 'Mozilla/5.0 (X11; Linux x86_64) AppleWebKit/537.36 (KHTML, like Gecko) Chrome/56.0.2924.87 Safari/537.36',\n",
    "        'Accept': 'text/html,application/xhtml+xml,application/xml;q=0.9,image/webp,*/*;q=0.8',\n",
    "        'Cache-Control': 'max-age=0',\n",
    "        'Connection': 'keep-alive',\n",
    "    }\n",
    "    URL=f\"https://remoteok.io/remote-{word}-jobs\"\n",
    "    result = requests.get(URL,headers=headers)\n",
    "\n",
    "    soup = BeautifulSoup(result.text, 'html.parser')\n",
    "    job_li = soup.find_all('tr',{'class':'job'})\n",
    "    jobs=[]\n",
    "    for job in job_li:\n",
    "        try:\n",
    "            # Company\n",
    "            company = job.select('tr > td > a > h3',limit=1)[0].text\n",
    "            # Title\n",
    "            title = job.select('tr > td > a > h2',limit=1)[0].text\n",
    "            # Link\n",
    "            link = \"https://remoteok.io\" + job.select('tr > td.source > a',limit=1)[0]['href']\n",
    "#             print({'company':company,'title':title,'link':link})\n",
    "            jobs.append({'company':company,'title':title,'link':link})\n",
    "        except:\n",
    "            pass\n",
    "    return jobs\n",
    "\n",
    "## wework\n",
    "def wwork_get_jobs(word):\n",
    "    url_wwr=f'https://weworkremotely.com/remote-jobs/search?term={word}'\n",
    "    ## title, link, company\n",
    "    r = requests.get(url_wwr)\n",
    "    soup = BeautifulSoup(r.text, 'html.parser')\n",
    "\n",
    "    job_con = soup.find('div',class_='jobs-container').find_all('article')\n",
    "    jobs=[]\n",
    "    for i in range(len(job_con)):\n",
    "        job_li = job_con[i].select('li > a')\n",
    "        job_li = job_li[:-1]\n",
    "        for j in range(len(job_li)):\n",
    "            company = job_li[j].find('span',class_='company').text\n",
    "            title = job_li[j].find('span',class_='title').text\n",
    "            link = 'https://weworkremotely.com' + job_li[j]['href']\n",
    "            jobs.append({'company' : company,'title' : title,'link' : link})\n",
    "    return jobs\n",
    "\n",
    "def save_to_file(jobs):\n",
    "    file = open('jobs.csv', mode='w', encoding='utf-8', newline='')\n",
    "    writer = csv.writer(file)\n",
    "    writer.writerow([\"Title\",\"Company\", \"Link\"])\n",
    "    for job in jobs:\n",
    "        writer.writerow(list(job.values()))\n",
    "    file.close()\n",
    "    return 1\n",
    "\n",
    "\n",
    "\n",
    "app = Flask(\"SuperScrapper\")\n",
    "CORS(app, expose_headers=[\"x-suggested-filename\"])\n",
    "db = {}\n",
    "\n",
    "@app.route(\"/\")\n",
    "def home():\n",
    "    return render_template(\"potato.html\")\n",
    "\n",
    "@app.route(\"/report\")\n",
    "def report():\n",
    "    word = request.args.get(\"word\") ## Query argument\n",
    "    if word:\n",
    "        word = word.lower()\n",
    "        existingJobs = db.get(word)\n",
    "        if existingJobs:\n",
    "            jobs = existingJobs\n",
    "        else:\n",
    "            job1 = wwork_get_jobs(word)\n",
    "            job2 = SO_get_jobs(word)\n",
    "            job3 = remote_get_jobs(word)\n",
    "            jobs = job1 + job2 + job3\n",
    "            db[word] = jobs\n",
    "    else:\n",
    "        return redirect(\"/\")\n",
    "    return render_template('report.html',\n",
    "                           SearchingBy=word,\n",
    "                           resultNumber=len(jobs),\n",
    "                           jobs = jobs) ## Query argument to render_template\n",
    "\n",
    "\n",
    "@app.route('/export')\n",
    "def export():\n",
    "    try:\n",
    "        word = request.args.get('word')\n",
    "        if not word:\n",
    "            raise Exception()\n",
    "        word = word.lower()\n",
    "        jobs = db.get(word)\n",
    "        if not jobs:\n",
    "            raise Exception()\n",
    "        save_to_file(jobs)\n",
    "        file_path = os.getcwd()\n",
    "        result = send_file(os.path.join(filepath, f\"{word}.csv\"),\n",
    "                           mimetype=\"text/csv\",\n",
    "                           as_attachment=True,\n",
    "                          conditional=False)\n",
    "        result.headers[\"x-suggested-filename\"] = f\"{word}.csv\"\n",
    "        return result\n",
    "    except:\n",
    "        return redirect('/')\n",
    "\n",
    "\n",
    "app.run(host=\"0.0.0.0\")"
   ]
  },
  {
   "cell_type": "code",
   "execution_count": null,
   "metadata": {
    "ExecuteTime": {
     "end_time": "2020-12-27T15:49:55.587462Z",
     "start_time": "2020-12-27T15:49:55.570474Z"
    }
   },
   "outputs": [],
   "source": [
    "result = send_file(\"/full/path/to/some/file\",\n",
    "                   mimetype=\"text/plain\", # use appropriate type based on file\n",
    "                   as_attachment=True,\n",
    "                   conditional=False)\n",
    "result.headers[\"x-suggested-filename\"] = \"use_this_filename.txt\"\n",
    "return result"
   ]
  },
  {
   "cell_type": "code",
   "execution_count": null,
   "metadata": {
    "ExecuteTime": {
     "end_time": "2020-12-27T15:50:25.553617Z",
     "start_time": "2020-12-27T15:50:21.507486Z"
    }
   },
   "outputs": [],
   "source": [
    "!pip install -U flask-cors"
   ]
  },
  {
   "cell_type": "code",
   "execution_count": null,
   "metadata": {
    "ExecuteTime": {
     "end_time": "2020-12-27T15:55:12.811549Z",
     "start_time": "2020-12-27T15:55:12.801557Z"
    }
   },
   "outputs": [],
   "source": [
    "import os"
   ]
  },
  {
   "cell_type": "code",
   "execution_count": null,
   "metadata": {
    "ExecuteTime": {
     "end_time": "2020-12-27T15:55:21.456707Z",
     "start_time": "2020-12-27T15:55:21.441715Z"
    }
   },
   "outputs": [],
   "source": [
    "os.path.join(os.getcwd(), f\"test.csv\")"
   ]
  }
 ],
 "metadata": {
  "kernelspec": {
   "display_name": "Python 3",
   "language": "python",
   "name": "python3"
  },
  "language_info": {
   "codemirror_mode": {
    "name": "ipython",
    "version": 3
   },
   "file_extension": ".py",
   "mimetype": "text/x-python",
   "name": "python",
   "nbconvert_exporter": "python",
   "pygments_lexer": "ipython3",
   "version": "3.7.3"
  },
  "toc": {
   "base_numbering": 1,
   "nav_menu": {},
   "number_sections": true,
   "sideBar": true,
   "skip_h1_title": false,
   "title_cell": "Table of Contents",
   "title_sidebar": "Contents",
   "toc_cell": false,
   "toc_position": {},
   "toc_section_display": true,
   "toc_window_display": false
  }
 },
 "nbformat": 4,
 "nbformat_minor": 2
}
