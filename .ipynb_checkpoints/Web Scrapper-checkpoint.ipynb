{
 "cells": [
  {
   "cell_type": "code",
   "execution_count": 58,
   "metadata": {},
   "outputs": [],
   "source": [
    "import requests # URL 가져오는 좋은 라이브러리\n",
    "from bs4 import BeautifulSoup # HTML에서 원하는 정보 가져오기 좋은 라이브러리\n",
    "\n",
    "LIMIT = 50\n",
    "URL = f\"https://www.indeed.com/jobs?q=python&limit={LIMIT}\"\n",
    "\n",
    "def extract_indeed_pages():\n",
    "    result = requests.get(URL)\n",
    "    \n",
    "    soup = BeautifulSoup(result.text, 'html.parser')\n",
    "    pagination = soup.find('div',{'class':'pagination'})\n",
    "    links = pagination.find_all('a')\n",
    "    \n",
    "    pages = [int(link.string) for link in links[:-1]]\n",
    "    max_page = pages[-1]\n",
    "    \n",
    "    return max_page\n",
    "\n",
    "def extract_indeed_jobs(last_page):\n",
    "    jobs=list()\n",
    "    for page in range(last_page):\n",
    "        result = requests.get(f\"{URL}&start={page*LIMIT}\")\n",
    "        soup = BeautifulSoup(result.text, 'html.parser')\n",
    "        print(result.status_code)\n",
    "    return jobs"
   ]
  },
  {
   "cell_type": "code",
   "execution_count": 56,
   "metadata": {},
   "outputs": [],
   "source": [
    "last_indeed_page = extract_indeed_pages()"
   ]
  },
  {
   "cell_type": "code",
   "execution_count": 57,
   "metadata": {},
   "outputs": [
    {
     "name": "stdout",
     "output_type": "stream",
     "text": [
      "200\n",
      "200\n",
      "200\n",
      "200\n",
      "200\n",
      "200\n",
      "200\n",
      "200\n",
      "200\n",
      "200\n",
      "200\n",
      "200\n",
      "200\n",
      "200\n",
      "200\n",
      "200\n",
      "200\n",
      "200\n",
      "200\n",
      "200\n"
     ]
    }
   ],
   "source": [
    "extract_indeed_jobs(last_indeed_page)"
   ]
  }
 ],
 "metadata": {
  "kernelspec": {
   "display_name": "Python 3",
   "language": "python",
   "name": "python3"
  },
  "language_info": {
   "codemirror_mode": {
    "name": "ipython",
    "version": 3
   },
   "file_extension": ".py",
   "mimetype": "text/x-python",
   "name": "python",
   "nbconvert_exporter": "python",
   "pygments_lexer": "ipython3",
   "version": "3.7.3"
  }
 },
 "nbformat": 4,
 "nbformat_minor": 2
}
