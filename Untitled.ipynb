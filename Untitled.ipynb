{
 "cells": [
  {
   "cell_type": "code",
   "execution_count": 35,
   "metadata": {
    "ExecuteTime": {
     "end_time": "2020-12-17T15:28:11.467668Z",
     "start_time": "2020-12-17T15:27:55.132672Z"
    }
   },
   "outputs": [
    {
     "name": "stdout",
     "output_type": "stream",
     "text": [
      "asdfasdf\n",
      "Welcome to IsItDown.py!\n",
      "Please write a URL or URLs you want to check. (separated by comma)\n",
      "http://asdfasdf is down!\n",
      "Do you want to start over? y/n l\n",
      "Wrong Answer. again\n",
      "Do you want to start over? y/n l\n",
      "Wrong Answer. again\n",
      "Do you want to start over? y/n ek\n",
      "Wrong Answer. again\n",
      "Do you want to start over? y/n ql\n",
      "Wrong Answer. again\n",
      "Do you want to start over? y/n n\n"
     ]
    }
   ],
   "source": [
    "import requests\n",
    "import os\n",
    "\n",
    "def check_URL(input_string):\n",
    "    print(\"Welcome to IsItDown.py!\")\n",
    "    print(\"Please write a URL or URLs you want to check. (separated by comma)\")\n",
    "    li = input_string.replace(' ','').split(',')\n",
    "    li = ['http://'+i.lower() if 'http://' not in i.lower() else i for i in li ]\n",
    "    for site in li:\n",
    "        try:\n",
    "            if int(requests.get(site).status_code)//100 == 2: \n",
    "                print(f\"{site} is up!\")\n",
    "            else:\n",
    "                print(f\"{site} is down!\")\n",
    "        except:\n",
    "            print(f\"{site} is down!\")\n",
    "\n",
    "def answer():\n",
    "    repeat = input(\"Do you want to start over? y/n \")\n",
    "    if repeat == 'n':\n",
    "        return 0\n",
    "    elif repeat == 'y':\n",
    "        return 1\n",
    "    else:\n",
    "        print(\"Wrong Answer. again\")\n",
    "        return answer()\n",
    "            \n",
    "while True:\n",
    "    input_string = input()\n",
    "    check_URL(input_string)\n",
    "    if answer():\n",
    "        continue\n",
    "    else:\n",
    "        break    "
   ]
  }
 ],
 "metadata": {
  "kernelspec": {
   "display_name": "Python 3",
   "language": "python",
   "name": "python3"
  },
  "language_info": {
   "codemirror_mode": {
    "name": "ipython",
    "version": 3
   },
   "file_extension": ".py",
   "mimetype": "text/x-python",
   "name": "python",
   "nbconvert_exporter": "python",
   "pygments_lexer": "ipython3",
   "version": "3.7.3"
  },
  "toc": {
   "base_numbering": 1,
   "nav_menu": {},
   "number_sections": true,
   "sideBar": true,
   "skip_h1_title": false,
   "title_cell": "Table of Contents",
   "title_sidebar": "Contents",
   "toc_cell": false,
   "toc_position": {},
   "toc_section_display": true,
   "toc_window_display": false
  }
 },
 "nbformat": 4,
 "nbformat_minor": 2
}
