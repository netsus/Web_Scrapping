{
 "cells": [
  {
   "cell_type": "code",
   "execution_count": null,
   "metadata": {
    "ExecuteTime": {
     "end_time": "2020-12-13T06:11:04.127650Z",
     "start_time": "2020-12-13T06:11:02.913634Z"
    }
   },
   "outputs": [],
   "source": [
    "from Web_Scrapper import *\n",
    "from flask import Flask, render_template"
   ]
  },
  {
   "cell_type": "markdown",
   "metadata": {},
   "source": [
    "## render_template\n",
    "- templates 폴더에 있는 html에 접근."
   ]
  },
  {
   "cell_type": "code",
   "execution_count": null,
   "metadata": {
    "ExecuteTime": {
     "end_time": "2020-12-13T06:16:28.672707Z",
     "start_time": "2020-12-13T06:11:04.130654Z"
    }
   },
   "outputs": [],
   "source": [
    "app = Flask(\"SuperScrapper\")\n",
    "\n",
    "@app.route(\"/\")\n",
    "def home():\n",
    "    return render_template(\"potato.html\")\n",
    "   \n",
    "\n",
    "app.run(host=\"0.0.0.0\")"
   ]
  },
  {
   "cell_type": "markdown",
   "metadata": {},
   "source": [
    "## Query Argument\n",
    "- /report?word=asdfasf : /report에 word 전달 -> request.args.get(\"word\") 사용"
   ]
  },
  {
   "cell_type": "code",
   "execution_count": null,
   "metadata": {
    "ExecuteTime": {
     "end_time": "2020-12-13T06:35:49.984219Z",
     "start_time": "2020-12-13T06:32:32.750210Z"
    }
   },
   "outputs": [],
   "source": [
    "from flask import Flask, render_template, request\n",
    "\n",
    "app = Flask(\"SuperScrapper\")\n",
    "\n",
    "@app.route(\"/\")\n",
    "def home():\n",
    "    return render_template(\"potato.html\")\n",
    "\n",
    "@app.route(\"/report\")\n",
    "def report():\n",
    "    word = request.args.get(\"word\") ## Query argument\n",
    "    return render_template('report.html', SearchingBy=word, potato='sexy') ## Query argument to render_template\n",
    "\n",
    "app.run(host=\"0.0.0.0\")"
   ]
  },
  {
   "cell_type": "markdown",
   "metadata": {},
   "source": [
    "## Redirect\n",
    "- 입력창에 아무것도 입력하지 않으면, home으로가게리다이렉트"
   ]
  },
  {
   "cell_type": "code",
   "execution_count": null,
   "metadata": {
    "ExecuteTime": {
     "end_time": "2020-12-13T06:41:23.996030Z",
     "start_time": "2020-12-13T06:40:59.755644Z"
    }
   },
   "outputs": [],
   "source": [
    "from flask import Flask, render_template, request, redirect\n",
    "\n",
    "app = Flask(\"SuperScrapper\")\n",
    "\n",
    "@app.route(\"/\")\n",
    "def home():\n",
    "    return render_template(\"potato.html\")\n",
    "\n",
    "@app.route(\"/report\")\n",
    "def report():\n",
    "    word = request.args.get(\"word\") ## Query argument\n",
    "    if word:\n",
    "        word = word.lower()\n",
    "    else:\n",
    "        return redirect(\"/\")\n",
    "    return render_template('report.html', SearchingBy=word, potato='sexy') ## Query argument to render_template\n",
    "\n",
    "app.run(host=\"0.0.0.0\")"
   ]
  },
  {
   "cell_type": "markdown",
   "metadata": {},
   "source": [
    "## Web_Scrapper to flask"
   ]
  },
  {
   "cell_type": "code",
   "execution_count": 1,
   "metadata": {
    "ExecuteTime": {
     "end_time": "2020-12-13T07:55:30.881604Z",
     "start_time": "2020-12-13T07:55:29.596793Z"
    }
   },
   "outputs": [],
   "source": [
    "from Web_Scrapper import *\n",
    "from flask import Flask, render_template, request, redirect"
   ]
  },
  {
   "cell_type": "code",
   "execution_count": null,
   "metadata": {
    "ExecuteTime": {
     "end_time": "2020-12-13T07:04:38.059574Z",
     "start_time": "2020-12-13T07:03:33.313888Z"
    }
   },
   "outputs": [],
   "source": [
    "react = indeed_get_jobs('react')"
   ]
  },
  {
   "cell_type": "code",
   "execution_count": null,
   "metadata": {},
   "outputs": [],
   "source": [
    "SO_get_jobs()"
   ]
  },
  {
   "cell_type": "code",
   "execution_count": null,
   "metadata": {
    "ExecuteTime": {
     "start_time": "2020-12-13T08:00:37.376Z"
    }
   },
   "outputs": [
    {
     "name": "stdout",
     "output_type": "stream",
     "text": [
      " * Serving Flask app \"SuperScrapper\" (lazy loading)\n",
      " * Environment: production\n",
      "   WARNING: This is a development server. Do not use it in a production deployment.\n",
      "   Use a production WSGI server instead.\n",
      " * Debug mode: off\n"
     ]
    },
    {
     "name": "stderr",
     "output_type": "stream",
     "text": [
      " * Running on http://0.0.0.0:5000/ (Press CTRL+C to quit)\n"
     ]
    },
    {
     "name": "stdout",
     "output_type": "stream",
     "text": [
      "Scrapping indeed Page: 0\n",
      "Scrapping indeed Page: 1\n"
     ]
    },
    {
     "name": "stderr",
     "output_type": "stream",
     "text": [
      "127.0.0.1 - - [13/Dec/2020 17:00:49] \"\u001b[37mGET /report?word=python HTTP/1.1\u001b[0m\" 200 -\n",
      "127.0.0.1 - - [13/Dec/2020 17:01:22] \"\u001b[37mGET /report?word=python HTTP/1.1\u001b[0m\" 200 -\n",
      "127.0.0.1 - - [13/Dec/2020 17:01:25] \"\u001b[37mGET /report?word=python HTTP/1.1\u001b[0m\" 200 -\n"
     ]
    }
   ],
   "source": [
    "app = Flask(\"SuperScrapper\")\n",
    "\n",
    "db = {}\n",
    "\n",
    "@app.route(\"/\")\n",
    "def home():\n",
    "    return render_template(\"potato.html\")\n",
    "\n",
    "@app.route(\"/report\")\n",
    "def report():\n",
    "    word = request.args.get(\"word\") ## Query argument\n",
    "    if word:\n",
    "        word = word.lower()\n",
    "        existingJobs = db.get(word)\n",
    "        if existingJobs:\n",
    "            jobs = existingJobs\n",
    "        else:\n",
    "            jobs = indeed_get_jobs(word)\n",
    "            db[word] = jobs\n",
    "    else:\n",
    "        return redirect(\"/\")\n",
    "    return render_template('report.html',\n",
    "                           SearchingBy=word,\n",
    "                           resultNumber=len(jobs),\n",
    "                           jobs = jobs) ## Query argument to render_template\n",
    "\n",
    "app.run(host=\"0.0.0.0\")"
   ]
  }
 ],
 "metadata": {
  "kernelspec": {
   "display_name": "Python 3",
   "language": "python",
   "name": "python3"
  },
  "language_info": {
   "codemirror_mode": {
    "name": "ipython",
    "version": 3
   },
   "file_extension": ".py",
   "mimetype": "text/x-python",
   "name": "python",
   "nbconvert_exporter": "python",
   "pygments_lexer": "ipython3",
   "version": "3.7.3"
  },
  "toc": {
   "base_numbering": 1,
   "nav_menu": {},
   "number_sections": true,
   "sideBar": true,
   "skip_h1_title": false,
   "title_cell": "Table of Contents",
   "title_sidebar": "Contents",
   "toc_cell": false,
   "toc_position": {},
   "toc_section_display": true,
   "toc_window_display": false
  }
 },
 "nbformat": 4,
 "nbformat_minor": 2
}
