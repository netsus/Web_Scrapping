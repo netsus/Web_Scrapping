{
 "cells": [
  {
   "cell_type": "code",
   "execution_count": null,
   "metadata": {
    "ExecuteTime": {
     "end_time": "2021-06-27T11:23:17.576723Z",
     "start_time": "2021-06-27T11:23:13.776720Z"
    }
   },
   "outputs": [],
   "source": [
    "from Web_Scrapper import *\n",
    "from flask import Flask, render_template"
   ]
  },
  {
   "cell_type": "markdown",
   "metadata": {},
   "source": [
    "## render_template\n",
    "- templates 폴더에 있는 html에 접근."
   ]
  },
  {
   "cell_type": "code",
   "execution_count": null,
   "metadata": {
    "ExecuteTime": {
     "end_time": "2020-12-13T06:16:28.672707Z",
     "start_time": "2020-12-13T06:11:04.130654Z"
    }
   },
   "outputs": [],
   "source": [
    "app = Flask(\"SuperScrapper\")\n",
    "\n",
    "@app.route(\"/\")\n",
    "def home():\n",
    "    return render_template(\"potato.html\")\n",
    "   \n",
    "\n",
    "app.run(host=\"0.0.0.0\")"
   ]
  },
  {
   "cell_type": "markdown",
   "metadata": {},
   "source": [
    "## Query Argument\n",
    "- /report?word=asdfasf : /report에 word 전달 -> request.args.get(\"word\") 사용"
   ]
  },
  {
   "cell_type": "code",
   "execution_count": null,
   "metadata": {
    "ExecuteTime": {
     "end_time": "2020-12-13T06:35:49.984219Z",
     "start_time": "2020-12-13T06:32:32.750210Z"
    }
   },
   "outputs": [],
   "source": [
    "from flask import Flask, render_template, request\n",
    "\n",
    "app = Flask(\"SuperScrapper\")\n",
    "\n",
    "@app.route(\"/\")\n",
    "def home():\n",
    "    return render_template(\"potato.html\")\n",
    "\n",
    "@app.route(\"/report\")\n",
    "def report():\n",
    "    word = request.args.get(\"word\") ## Query argument\n",
    "    return render_template('report.html', SearchingBy=word, potato='sexy') ## Query argument to render_template\n",
    "\n",
    "app.run(host=\"0.0.0.0\")"
   ]
  },
  {
   "cell_type": "markdown",
   "metadata": {},
   "source": [
    "## Redirect\n",
    "- 입력창에 아무것도 입력하지 않으면, home으로가게리다이렉트"
   ]
  },
  {
   "cell_type": "code",
   "execution_count": null,
   "metadata": {
    "ExecuteTime": {
     "end_time": "2020-12-13T06:41:23.996030Z",
     "start_time": "2020-12-13T06:40:59.755644Z"
    }
   },
   "outputs": [],
   "source": [
    "from flask import Flask, render_template, request, redirect\n",
    "\n",
    "app = Flask(\"SuperScrapper\")\n",
    "\n",
    "@app.route(\"/\")\n",
    "def home():\n",
    "    return render_template(\"potato.html\")\n",
    "\n",
    "@app.route(\"/report\")\n",
    "def report():\n",
    "    word = request.args.get(\"word\") ## Query argument\n",
    "    if word:\n",
    "        word = word.lower()\n",
    "    else:\n",
    "        return redirect(\"/\")\n",
    "    return render_template('report.html', SearchingBy=word, potato='sexy') ## Query argument to render_template\n",
    "\n",
    "app.run(host=\"0.0.0.0\")"
   ]
  },
  {
   "cell_type": "markdown",
   "metadata": {},
   "source": [
    "## Web_Scrapper to flask"
   ]
  },
  {
   "cell_type": "code",
   "execution_count": null,
   "metadata": {
    "ExecuteTime": {
     "start_time": "2021-11-14T13:06:28.281Z"
    }
   },
   "outputs": [
    {
     "name": "stdout",
     "output_type": "stream",
     "text": [
      " * Serving Flask app \"SuperScrapper\" (lazy loading)\n",
      " * Environment: production\n",
      "   WARNING: This is a development server. Do not use it in a production deployment.\n",
      "   Use a production WSGI server instead.\n",
      " * Debug mode: off\n"
     ]
    },
    {
     "name": "stderr",
     "output_type": "stream",
     "text": [
      " * Running on http://0.0.0.0:5000/ (Press CTRL+C to quit)\n",
      "127.0.0.1 - - [14/Nov/2021 22:06:39] \"\u001b[37mGET / HTTP/1.1\u001b[0m\" 200 -\n",
      "127.0.0.1 - - [14/Nov/2021 22:06:39] \"\u001b[33mGET /reset.css HTTP/1.1\u001b[0m\" 404 -\n",
      "127.0.0.1 - - [14/Nov/2021 22:06:39] \"\u001b[33mGET /templates/CWJ_JOB.gif HTTP/1.1\u001b[0m\" 404 -\n",
      "127.0.0.1 - - [14/Nov/2021 22:06:40] \"\u001b[37mGET / HTTP/1.1\u001b[0m\" 200 -\n",
      "127.0.0.1 - - [14/Nov/2021 22:06:40] \"\u001b[33mGET /reset.css HTTP/1.1\u001b[0m\" 404 -\n",
      "127.0.0.1 - - [14/Nov/2021 22:06:40] \"\u001b[33mGET /templates/CWJ_JOB.gif HTTP/1.1\u001b[0m\" 404 -\n",
      "127.0.0.1 - - [14/Nov/2021 22:06:41] \"\u001b[37mGET / HTTP/1.1\u001b[0m\" 200 -\n",
      "127.0.0.1 - - [14/Nov/2021 22:06:41] \"\u001b[33mGET /reset.css HTTP/1.1\u001b[0m\" 404 -\n",
      "127.0.0.1 - - [14/Nov/2021 22:06:41] \"\u001b[33mGET /templates/CWJ_JOB.gif HTTP/1.1\u001b[0m\" 404 -\n"
     ]
    }
   ],
   "source": [
    "from Web_Scrapper import *\n",
    "from flask import Flask, render_template, request, redirect, send_file\n",
    "\n",
    "app = Flask(\"SuperScrapper\")\n",
    "\n",
    "db = {}\n",
    "\n",
    "@app.route(\"/\")\n",
    "def home():\n",
    "    return render_template(\"potato.html\")\n",
    "\n",
    "@app.route(\"/report\")\n",
    "def report():\n",
    "    word = request.args.get(\"word\") ## Query argument\n",
    "    if word:\n",
    "        word = word.lower()\n",
    "        existingJobs = db.get(word)\n",
    "        if existingJobs:\n",
    "            jobs = existingJobs\n",
    "        else:\n",
    "            job1 = indeed_get_jobs(word)\n",
    "            job2 = SO_get_jobs(word)\n",
    "            jobs = job1 + job2\n",
    "            db[word] = jobs\n",
    "    else:\n",
    "        return redirect(\"/\")\n",
    "    return render_template('report.html',\n",
    "                           SearchingBy=word,\n",
    "                           resultNumber=len(jobs),\n",
    "                           jobs = jobs) ## Query argument to render_template\n",
    "\n",
    "@app.route(\"/export\")\n",
    "def export():\n",
    "    try:\n",
    "        word = request.args.get(\"word\") ## Query argument\n",
    "        if word:\n",
    "            word = word.lower()\n",
    "        else:\n",
    "            raise Exception()\n",
    "        jobs = db.get(word)\n",
    "        if jobs:\n",
    "            save_to_file(word,jobs)\n",
    "        else:\n",
    "            raise Exception()\n",
    "        return send_file(filename_or_fp=f\"{word}_jobs.csv\")\n",
    "    except:\n",
    "#         import pdb;pdb.set_trace()\n",
    "        return redirect(\"/\")\n",
    "\n",
    "app.run(host=\"0.0.0.0\")"
   ]
  },
  {
   "cell_type": "code",
   "execution_count": null,
   "metadata": {},
   "outputs": [],
   "source": []
  }
 ],
 "metadata": {
  "kernelspec": {
   "display_name": "Python 3",
   "language": "python",
   "name": "python3"
  },
  "toc": {
   "base_numbering": 1,
   "nav_menu": {},
   "number_sections": true,
   "sideBar": true,
   "skip_h1_title": false,
   "title_cell": "Table of Contents",
   "title_sidebar": "Contents",
   "toc_cell": false,
   "toc_position": {},
   "toc_section_display": true,
   "toc_window_display": false
  }
 },
 "nbformat": 4,
 "nbformat_minor": 2
}
