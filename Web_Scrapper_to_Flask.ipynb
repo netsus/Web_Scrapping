{
 "cells": [
  {
   "cell_type": "code",
   "execution_count": null,
   "metadata": {
    "ExecuteTime": {
     "end_time": "2020-12-13T06:11:04.127650Z",
     "start_time": "2020-12-13T06:11:02.913634Z"
    }
   },
   "outputs": [],
   "source": [
    "from Web_Scrapper import *\n",
    "from flask import Flask, render_template"
   ]
  },
  {
   "cell_type": "markdown",
   "metadata": {},
   "source": [
    "## render_template\n",
    "- templates 폴더에 있는 html에 접근."
   ]
  },
  {
   "cell_type": "code",
   "execution_count": null,
   "metadata": {
    "ExecuteTime": {
     "end_time": "2020-12-13T06:16:28.672707Z",
     "start_time": "2020-12-13T06:11:04.130654Z"
    }
   },
   "outputs": [],
   "source": [
    "app = Flask(\"SuperScrapper\")\n",
    "\n",
    "@app.route(\"/\")\n",
    "def home():\n",
    "    return render_template(\"potato.html\")\n",
    "   \n",
    "\n",
    "app.run(host=\"0.0.0.0\")"
   ]
  },
  {
   "cell_type": "markdown",
   "metadata": {},
   "source": [
    "## Query Argument\n",
    "- /report?word=asdfasf : /report에 word 전달 -> request.args.get(\"word\") 사용"
   ]
  },
  {
   "cell_type": "code",
   "execution_count": null,
   "metadata": {
    "ExecuteTime": {
     "end_time": "2020-12-13T06:35:49.984219Z",
     "start_time": "2020-12-13T06:32:32.750210Z"
    }
   },
   "outputs": [],
   "source": [
    "from flask import Flask, render_template, request\n",
    "\n",
    "app = Flask(\"SuperScrapper\")\n",
    "\n",
    "@app.route(\"/\")\n",
    "def home():\n",
    "    return render_template(\"potato.html\")\n",
    "\n",
    "@app.route(\"/report\")\n",
    "def report():\n",
    "    word = request.args.get(\"word\") ## Query argument\n",
    "    return render_template('report.html', SearchingBy=word, potato='sexy') ## Query argument to render_template\n",
    "\n",
    "app.run(host=\"0.0.0.0\")"
   ]
  },
  {
   "cell_type": "markdown",
   "metadata": {},
   "source": [
    "## Redirect\n",
    "- 입력창에 아무것도 입력하지 않으면, home으로가게리다이렉트"
   ]
  },
  {
   "cell_type": "code",
   "execution_count": null,
   "metadata": {
    "ExecuteTime": {
     "end_time": "2020-12-13T06:41:23.996030Z",
     "start_time": "2020-12-13T06:40:59.755644Z"
    }
   },
   "outputs": [],
   "source": [
    "from flask import Flask, render_template, request, redirect\n",
    "\n",
    "app = Flask(\"SuperScrapper\")\n",
    "\n",
    "@app.route(\"/\")\n",
    "def home():\n",
    "    return render_template(\"potato.html\")\n",
    "\n",
    "@app.route(\"/report\")\n",
    "def report():\n",
    "    word = request.args.get(\"word\") ## Query argument\n",
    "    if word:\n",
    "        word = word.lower()\n",
    "    else:\n",
    "        return redirect(\"/\")\n",
    "    return render_template('report.html', SearchingBy=word, potato='sexy') ## Query argument to render_template\n",
    "\n",
    "app.run(host=\"0.0.0.0\")"
   ]
  },
  {
   "cell_type": "markdown",
   "metadata": {},
   "source": [
    "## Web_Scrapper to flask"
   ]
  },
  {
   "cell_type": "code",
   "execution_count": 1,
   "metadata": {
    "ExecuteTime": {
     "end_time": "2020-12-13T11:51:27.836063Z",
     "start_time": "2020-12-13T11:51:26.509692Z"
    }
   },
   "outputs": [],
   "source": [
    "from Web_Scrapper import *\n",
    "from flask import Flask, render_template, request, redirect, send_file"
   ]
  },
  {
   "cell_type": "code",
   "execution_count": 2,
   "metadata": {
    "ExecuteTime": {
     "end_time": "2020-12-13T11:58:30.425894Z",
     "start_time": "2020-12-13T11:51:36.117838Z"
    }
   },
   "outputs": [
    {
     "name": "stdout",
     "output_type": "stream",
     "text": [
      " * Serving Flask app \"SuperScrapper\" (lazy loading)\n",
      " * Environment: production\n",
      "   WARNING: This is a development server. Do not use it in a production deployment.\n",
      "   Use a production WSGI server instead.\n",
      " * Debug mode: off\n"
     ]
    },
    {
     "name": "stderr",
     "output_type": "stream",
     "text": [
      " * Running on http://0.0.0.0:5000/ (Press CTRL+C to quit)\n"
     ]
    },
    {
     "name": "stdout",
     "output_type": "stream",
     "text": [
      "> <ipython-input-2-fc66fd5571b2>(45)export()\n",
      "-> return redirect(\"/\")\n",
      "Scrapping indeed Page: 0\n",
      "Scrapping indeed Page: 1\n",
      "Scrapping SO Page: 0\n",
      "Scrapping SO Page: 1\n"
     ]
    },
    {
     "name": "stderr",
     "output_type": "stream",
     "text": [
      "127.0.0.1 - - [13/Dec/2020 20:51:53] \"\u001b[37mGET /report?word=python HTTP/1.1\u001b[0m\" 200 -\n"
     ]
    },
    {
     "name": "stdout",
     "output_type": "stream",
     "text": [
      "(Pdb) word\n",
      "'python'\n"
     ]
    },
    {
     "name": "stderr",
     "output_type": "stream",
     "text": [
      "127.0.0.1 - - [13/Dec/2020 20:52:03] \"\u001b[37mGET /export?word=python HTTP/1.1\u001b[0m\" 200 -\n"
     ]
    },
    {
     "name": "stdout",
     "output_type": "stream",
     "text": [
      "(Pdb) exit\n"
     ]
    },
    {
     "name": "stderr",
     "output_type": "stream",
     "text": [
      "[2020-12-13 20:53:03,588] ERROR in app: Exception on /export [GET]\n",
      "Traceback (most recent call last):\n",
      "  File \"<ipython-input-2-fc66fd5571b2>\", line 41, in export\n",
      "    raise Exception()\n",
      "Exception\n",
      "\n",
      "During handling of the above exception, another exception occurred:\n",
      "\n",
      "Traceback (most recent call last):\n",
      "  File \"C:\\Users\\user\\Anaconda3\\lib\\site-packages\\flask\\app.py\", line 2446, in wsgi_app\n",
      "    response = self.full_dispatch_request()\n",
      "  File \"C:\\Users\\user\\Anaconda3\\lib\\site-packages\\flask\\app.py\", line 1949, in full_dispatch_request\n",
      "    rv = self.dispatch_request()\n",
      "  File \"C:\\Users\\user\\Anaconda3\\lib\\site-packages\\flask\\app.py\", line 1820, in handle_user_exception\n",
      "    reraise(exc_type, exc_value, tb)\n",
      "  File \"C:\\Users\\user\\Anaconda3\\lib\\site-packages\\flask\\_compat.py\", line 39, in reraise\n",
      "    raise value\n",
      "  File \"C:\\Users\\user\\Anaconda3\\lib\\site-packages\\flask\\app.py\", line 1949, in full_dispatch_request\n",
      "    rv = self.dispatch_request()\n",
      "  File \"C:\\Users\\user\\Anaconda3\\lib\\site-packages\\flask\\app.py\", line 1935, in dispatch_request\n",
      "    return self.view_functions[rule.endpoint](**req.view_args)\n",
      "  File \"<ipython-input-2-fc66fd5571b2>\", line 45, in export\n",
      "    return redirect(\"/\")\n",
      "  File \"<ipython-input-2-fc66fd5571b2>\", line 45, in export\n",
      "    return redirect(\"/\")\n",
      "  File \"C:\\Users\\user\\Anaconda3\\lib\\bdb.py\", line 88, in trace_dispatch\n",
      "    return self.dispatch_line(frame)\n",
      "  File \"C:\\Users\\user\\Anaconda3\\lib\\bdb.py\", line 113, in dispatch_line\n",
      "    if self.quitting: raise BdbQuit\n",
      "bdb.BdbQuit\n",
      "127.0.0.1 - - [13/Dec/2020 20:53:03] \"\u001b[1m\u001b[35mGET /export?word=python HTTP/1.1\u001b[0m\" 500 -\n"
     ]
    }
   ],
   "source": [
    "app = Flask(\"SuperScrapper\")\n",
    "\n",
    "db = {}\n",
    "\n",
    "@app.route(\"/\")\n",
    "def home():\n",
    "    return render_template(\"potato.html\")\n",
    "\n",
    "@app.route(\"/report\")\n",
    "def report():\n",
    "    word = request.args.get(\"word\") ## Query argument\n",
    "    if word:\n",
    "        word = word.lower()\n",
    "        existingJobs = db.get(word)\n",
    "        if existingJobs:\n",
    "            jobs = existingJobs\n",
    "        else:\n",
    "            job1 = indeed_get_jobs(word)\n",
    "            job2 = SO_get_jobs(word)\n",
    "            jobs = job1 + job2\n",
    "            db[word] = jobs\n",
    "    else:\n",
    "        return redirect(\"/\")\n",
    "    return render_template('report.html',\n",
    "                           SearchingBy=word,\n",
    "                           resultNumber=len(jobs),\n",
    "                           jobs = jobs) ## Query argument to render_template\n",
    "\n",
    "@app.route(\"/export\")\n",
    "def export():\n",
    "    try:\n",
    "        word = request.args.get(\"word\") ## Query argument\n",
    "        if word:\n",
    "            word = word.lower()\n",
    "        else:\n",
    "            raise Exception()\n",
    "        jobs = db.get(word)\n",
    "        if jobs:\n",
    "            save_to_file(word,jobs)\n",
    "        else:\n",
    "            raise Exception()\n",
    "        return send_file(filename_or_fp=f\"{word}_jobs.csv\")\n",
    "    except:\n",
    "#         import pdb;pdb.set_trace()\n",
    "        return redirect(\"/\")\n",
    "\n",
    "app.run(host=\"0.0.0.0\")"
   ]
  }
 ],
 "metadata": {
  "kernelspec": {
   "display_name": "Python 3",
   "language": "python",
   "name": "python3"
  },
  "language_info": {
   "codemirror_mode": {
    "name": "ipython",
    "version": 3
   },
   "file_extension": ".py",
   "mimetype": "text/x-python",
   "name": "python",
   "nbconvert_exporter": "python",
   "pygments_lexer": "ipython3",
   "version": "3.7.3"
  },
  "toc": {
   "base_numbering": 1,
   "nav_menu": {},
   "number_sections": true,
   "sideBar": true,
   "skip_h1_title": false,
   "title_cell": "Table of Contents",
   "title_sidebar": "Contents",
   "toc_cell": false,
   "toc_position": {},
   "toc_section_display": true,
   "toc_window_display": false
  }
 },
 "nbformat": 4,
 "nbformat_minor": 2
}
