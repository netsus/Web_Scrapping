{
 "cells": [
  {
   "cell_type": "code",
   "execution_count": 42,
   "metadata": {},
   "outputs": [],
   "source": [
    "import requests # URL 가져오는 좋은 라이브러리\n",
    "from bs4 import BeautifulSoup # HTML에서 원하는 정보 가져오기 좋은 라이브러리\n",
    "\n",
    "LIMIT = 50\n",
    "URL = f\"https://www.indeed.com/jobs?q=python&limit={LIMIT}\"\n",
    "\n",
    "def extract_indeed_pages():\n",
    "    result = requests.get(URL)\n",
    "    \n",
    "    soup = BeautifulSoup(result.text, 'html.parser')\n",
    "    pagination = soup.find('div',{'class':'pagination'})\n",
    "    links = pagination.find_all('a')\n",
    "    \n",
    "    pages = [int(link.string) for link in links[:-1]]\n",
    "    max_page = pages[-1]\n",
    "    \n",
    "    return max_page\n",
    "\n",
    "def extract_indeed_jobs(last_page):\n",
    "    jobs=list()\n",
    "#     for page in range(last_page):\n",
    "    page=0\n",
    "    page_result = requests.get(f\"{URL}&start={page*LIMIT}\")\n",
    "    page_soup = BeautifulSoup(page_result.text, 'html.parser')\n",
    "    job_results = page_soup.find_all('div',{'class':'jobsearch-SerpJobCard'})\n",
    "    cnt=1\n",
    "    for job_result in job_results:\n",
    "        title = job_result.find(\"h2\",{\"class\":\"title\"})\n",
    "        anchor_title = title.find(\"a\")[\"title\"]\n",
    "        company = job_result.find(\"span\",{'class':'company'})\n",
    "        company_anchor = company.find(\"a\")\n",
    "        if company_anchor is not None:\n",
    "            company_name = str(company_anchor.string)\n",
    "        else:\n",
    "            company_name = str(company.string)\n",
    "        company_name = company_name.strip()\n",
    "\n",
    "    return jobs"
   ]
  },
  {
   "cell_type": "code",
   "execution_count": null,
   "metadata": {},
   "outputs": [],
   "source": []
  },
  {
   "cell_type": "markdown",
   "metadata": {},
   "source": [
    "## main"
   ]
  },
  {
   "cell_type": "code",
   "execution_count": 25,
   "metadata": {},
   "outputs": [],
   "source": [
    "last_indeed_page = extract_indeed_pages()"
   ]
  },
  {
   "cell_type": "code",
   "execution_count": 43,
   "metadata": {},
   "outputs": [
    {
     "name": "stdout",
     "output_type": "stream",
     "text": [
      "1 \n",
      "OXO Solutions\n",
      "2 \n",
      "Intone Networks\n",
      "3 \n",
      "HEXACT\n",
      "4 \n",
      "NCLab\n",
      "5 \n",
      "Raptor Maps\n",
      "6 \n",
      "CMK Resources\n",
      "7 \n",
      "Cleveland Indians - Baseball Operations\n",
      "8 \n",
      "GTS\n",
      "9 \n",
      "Mako Medical Laboratories\n",
      "10 \n",
      "Agama Solutions\n",
      "11 \n",
      "InspiHER Tech\n",
      "12 \n",
      "UC San Diego\n",
      "13 \n",
      "BreachLock\n",
      "14 \n",
      "VAUXOO\n",
      "15 \n",
      "Moderna\n",
      "16 \n",
      "Phrasee\n",
      "17 \n",
      "Avatar Securities\n",
      "18 \n",
      "CLARIKA\n",
      "19 \n",
      "Highbrow Technologies\n",
      "20 \n",
      "Scientific Games\n",
      "21 \n",
      "Hash Technologies\n",
      "22 \n",
      "Naka Technologies\n",
      "23 \n",
      "Internews\n",
      "24 \n",
      "DataArt\n",
      "25 \n",
      "Detroit Tigers\n",
      "26 \n",
      "Basis Technology\n",
      "27 \n",
      "The New York Times\n",
      "28 \n",
      "Small Planet\n",
      "29 \n",
      "Pythonwise\n",
      "30 \n",
      "RStudio\n",
      "31 \n",
      "Facebook\n",
      "32 \n",
      "SMB Capital\n",
      "33 \n",
      "iknowvate technologies\n",
      "34 \n",
      "Satoshitrade\n",
      "35 \n",
      "Callsign Media\n",
      "36 \n",
      "Strategic Energy Innovations\n",
      "37 \n",
      "Spire Digital\n",
      "38 \n",
      "Data Tecnica\n",
      "39 \n",
      "Citi\n",
      "40 \n",
      "FedEx Services\n",
      "41 \n",
      "Liberty Mutual Insurance\n",
      "42 \n",
      "SAM Consulting Services, Inc.\n",
      "43 \n",
      "The Seattle Mariners Baseball Club\n",
      "44 \n",
      "Cliently\n",
      "45 \n",
      "FullStack Labs\n",
      "46 \n",
      "Galvanize Inc.\n",
      "47 \n",
      "Vectorworks Inc.\n",
      "48 \n",
      "InterSystems\n",
      "49 \n",
      "Synechron\n",
      "50 \n",
      "Ossisto\n"
     ]
    },
    {
     "data": {
      "text/plain": [
       "[]"
      ]
     },
     "execution_count": 43,
     "metadata": {},
     "output_type": "execute_result"
    }
   ],
   "source": [
    "extract_indeed_jobs(last_indeed_page)"
   ]
  },
  {
   "cell_type": "code",
   "execution_count": null,
   "metadata": {},
   "outputs": [],
   "source": []
  }
 ],
 "metadata": {
  "kernelspec": {
   "display_name": "Python 3",
   "language": "python",
   "name": "python3"
  },
  "language_info": {
   "codemirror_mode": {
    "name": "ipython",
    "version": 3
   },
   "file_extension": ".py",
   "mimetype": "text/x-python",
   "name": "python",
   "nbconvert_exporter": "python",
   "pygments_lexer": "ipython3",
   "version": "3.7.3"
  }
 },
 "nbformat": 4,
 "nbformat_minor": 2
}
