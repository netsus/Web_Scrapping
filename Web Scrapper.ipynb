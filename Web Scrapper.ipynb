{
 "cells": [
  {
   "cell_type": "code",
   "execution_count": 21,
   "metadata": {},
   "outputs": [],
   "source": [
    "import requests # URL 가져오는 좋은 라이브러리\n",
    "from bs4 import BeautifulSoup # HTML에서 원하는 정보 가져오기 좋은 라이브러리\n",
    "\n",
    "LIMIT = 50\n",
    "URL = f\"https://www.indeed.com/jobs?q=python&limit={LIMIT}\"\n",
    "\n",
    "def extract_indeed_pages():\n",
    "    result = requests.get(URL)\n",
    "    \n",
    "    soup = BeautifulSoup(result.text, 'html.parser')\n",
    "    pagination = soup.find('div',{'class':'pagination'})\n",
    "    links = pagination.find_all('a')\n",
    "    \n",
    "    pages = [int(link.string) for link in links[:-1]]\n",
    "    max_page = pages[-1]\n",
    "    \n",
    "    return max_page\n",
    "\n",
    "def extract_indeed_jobs(last_page):\n",
    "    jobs=list()\n",
    "#     for page in range(last_page):\n",
    "    page=0\n",
    "    page_result = requests.get(f\"{URL}&start={page*LIMIT}\")\n",
    "    page_soup = BeautifulSoup(page_result.text, 'html.parser')\n",
    "    job_results = page_soup.find_all('div',{'class':'jobsearch-SerpJobCard'})\n",
    "    for job_result in job_results:\n",
    "        title = job_result.find(\"h2\",{\"class\":\"title\"})\n",
    "#         anchor_title = title.find(\"a\")[\"title\"]\n",
    "        import pdb;pdb.set_trace()\n",
    "        print(anchor_title)\n",
    "    return jobs"
   ]
  },
  {
   "cell_type": "markdown",
   "metadata": {},
   "source": [
    "## main"
   ]
  },
  {
   "cell_type": "code",
   "execution_count": 22,
   "metadata": {},
   "outputs": [],
   "source": [
    "last_indeed_page = extract_indeed_pages()"
   ]
  },
  {
   "cell_type": "code",
   "execution_count": null,
   "metadata": {},
   "outputs": [
    {
     "name": "stdout",
     "output_type": "stream",
     "text": [
      "> <ipython-input-21-2878c598f183>(30)extract_indeed_jobs()\n",
      "-> print(anchor_title)\n",
      "(Pdb) title\n",
      "<h2 class=\"title\">\n",
      "<a class=\"jobtitle turnstileLink\" data-tn-element=\"jobTitle\" href=\"/rc/clk?jk=84a541c104b5b24c&amp;fccid=72608fee1e921f8c&amp;vjs=3\" id=\"jl_84a541c104b5b24c\" onclick=\"setRefineByCookie([]); return rclk(this,jobmap[0],true,1);\" onmousedown=\"return rclk(this,jobmap[0],1);\" rel=\"noopener nofollow\" target=\"_blank\" title=\"Python Developer Intern\">\n",
      "<b>Python</b> Developer Intern</a>\n",
      "</h2>\n",
      "(Pdb) title.select('a')\n",
      "[<a class=\"jobtitle turnstileLink\" data-tn-element=\"jobTitle\" href=\"/rc/clk?jk=84a541c104b5b24c&amp;fccid=72608fee1e921f8c&amp;vjs=3\" id=\"jl_84a541c104b5b24c\" onclick=\"setRefineByCookie([]); return rclk(this,jobmap[0],true,1);\" onmousedown=\"return rclk(this,jobmap[0],1);\" rel=\"noopener nofollow\" target=\"_blank\" title=\"Python Developer Intern\">\n",
      "<b>Python</b> Developer Intern</a>]\n",
      "(Pdb) title.select('a[title]')\n",
      "[<a class=\"jobtitle turnstileLink\" data-tn-element=\"jobTitle\" href=\"/rc/clk?jk=84a541c104b5b24c&amp;fccid=72608fee1e921f8c&amp;vjs=3\" id=\"jl_84a541c104b5b24c\" onclick=\"setRefineByCookie([]); return rclk(this,jobmap[0],true,1);\" onmousedown=\"return rclk(this,jobmap[0],1);\" rel=\"noopener nofollow\" target=\"_blank\" title=\"Python Developer Intern\">\n",
      "<b>Python</b> Developer Intern</a>]\n",
      "(Pdb) title.select('a[attr=\"title\"]')\n",
      "[]\n"
     ]
    }
   ],
   "source": [
    "extract_indeed_jobs(last_indeed_page)"
   ]
  },
  {
   "cell_type": "code",
   "execution_count": null,
   "metadata": {},
   "outputs": [],
   "source": []
  }
 ],
 "metadata": {
  "kernelspec": {
   "display_name": "Python 3",
   "language": "python",
   "name": "python3"
  },
  "language_info": {
   "codemirror_mode": {
    "name": "ipython",
    "version": 3
   },
   "file_extension": ".py",
   "mimetype": "text/x-python",
   "name": "python",
   "nbconvert_exporter": "python",
   "pygments_lexer": "ipython3",
   "version": "3.7.3"
  }
 },
 "nbformat": 4,
 "nbformat_minor": 2
}
